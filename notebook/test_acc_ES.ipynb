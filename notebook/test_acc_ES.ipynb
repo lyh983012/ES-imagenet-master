{
 "cells": [
  {
   "cell_type": "code",
   "execution_count": null,
   "metadata": {
    "scrolled": true
   },
   "outputs": [
    {
     "name": "stdout",
     "output_type": "stream",
     "text": [
      "Total number of paramerters in networks is 11693233  \n",
      "using uniformed init\n",
      "start validation\n"
     ]
    }
   ],
   "source": [
    "from __future__ import print_function\n",
    "import sys\n",
    "sys.path.append(\"..\")\n",
    "from datasets.es_imagenet import ESImagenet_Dataset\n",
    "import LIAF\n",
    "from LIAFnet.LIAFResNet import *\n",
    "import torch.distributed as dist \n",
    "import torch.nn as nn\n",
    "import argparse, pickle, torch, time, os,sys\n",
    "from importlib import import_module\n",
    "\n",
    "\n",
    "##################### Step1. Env Preparation #####################\n",
    "\n",
    "device = torch.device(\"cuda\" if torch.cuda.is_available() else \"cpu\")\n",
    "\n",
    "\n",
    "##################### Step2. load in dataset #####################\n",
    "\n",
    "modules = import_module('LIAFnet.LIAFResNet_18')\n",
    "config  = modules.Config()\n",
    "workpath = os.path.abspath(os.getcwd())\n",
    "\n",
    "num_epochs = config.num_epochs\n",
    "batch_size = config.batch_size\n",
    "timeWindows = config.timeWindows\n",
    "epoch = 0\n",
    "best_acc = 0  # best test accuracy\n",
    "start_epoch = 0  # start from epoch 0 or last checkpoint epoch\n",
    "training_iter = 0\n",
    "start_epoch = 0\n",
    "acc_record = list([])\n",
    "loss_train_record = list([])\n",
    "loss_test_record = list([])\n",
    "\n",
    "batch_size = 1\n",
    "\n",
    "test_dataset = ESImagenet_Dataset(mode='test',data_set_path='/Users/lyh/papers/ES-ImageNet-Val/')\n",
    "test_loader = torch.utils.data.DataLoader(test_dataset, batch_size=batch_size, shuffle=False, num_workers=8,pin_memory=True)\n",
    "\n",
    "##################### Step3. establish module #####################\n",
    "\n",
    "snn = LIAFResNet(config)\n",
    "print(\"Total number of paramerters in networks is {}  \".format(sum(x.numel() for x in snn.parameters())))\n",
    "snn = LIAFResNet(config)\n",
    "snn.to(device)\n",
    "\n",
    "##########################################################\n",
    "# load in\n",
    "##########################################################\n",
    "print('using uniformed init')\n",
    "pretrain_path = '../pretrained_model/LIAFResNet18-Acc52.pkl'\n",
    "checkpoint = torch.load(pretrain_path, map_location=torch.device('cpu'))\n",
    "snn.load_state_dict(checkpoint)\n",
    "\n",
    "\n",
    "################step4. training and validation ################\n",
    "\n",
    "def val(snn,test_loader,test_dataset,batch_size,epoch):\n",
    "    snn.eval()\n",
    "    correct = 0\n",
    "    total = 0\n",
    "    predicted = 0\n",
    "    with torch.no_grad():\n",
    "        for batch_idx, (inputs, targets) in enumerate(test_loader):\n",
    "            if ((batch_idx+1)<=len(test_dataset)//batch_size):\n",
    "                try:\n",
    "                    targets=targets.view(batch_size)#tiny bug\n",
    "                    outputs = snn(inputs.type(LIAF.dtype))\n",
    "                    _ , predicted = outputs.cpu().max(1)\n",
    "                    total += float(targets.size(0))\n",
    "                    correct += float(predicted.eq(targets).sum())\n",
    "                    print(batch_idx,'/',len(test_dataset)/batch_size)\n",
    "                except:\n",
    "                    print('sth. wrong')\n",
    "                    print('val_error:',batch_idx, end='')\n",
    "                    print('taret_size:',targets.size())\n",
    "    acc = 100. * float(correct) / float(total)\n",
    "    return acc\n",
    "\n",
    "print('start validation')\n",
    "acc = val(snn,test_loader,test_dataset,batch_size,epoch=-1)\n",
    "print('acc:',acc)\n",
    "\n",
    "\n"
   ]
  },
  {
   "cell_type": "code",
   "execution_count": null,
   "metadata": {},
   "outputs": [],
   "source": [
    "print('acc:',acc)"
   ]
  },
  {
   "cell_type": "code",
   "execution_count": null,
   "metadata": {},
   "outputs": [],
   "source": []
  }
 ],
 "metadata": {
  "kernelspec": {
   "display_name": "Python 3",
   "language": "python",
   "name": "python3"
  },
  "language_info": {
   "codemirror_mode": {
    "name": "ipython",
    "version": 3
   },
   "file_extension": ".py",
   "mimetype": "text/x-python",
   "name": "python",
   "nbconvert_exporter": "python",
   "pygments_lexer": "ipython3",
   "version": "3.6.2"
  }
 },
 "nbformat": 4,
 "nbformat_minor": 5
}
